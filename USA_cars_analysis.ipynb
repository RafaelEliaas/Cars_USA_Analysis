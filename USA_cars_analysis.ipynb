{
 "cells": [
  {
   "cell_type": "markdown",
   "metadata": {},
   "source": [
    "Bibliotecas utilizadas:"
   ]
  },
  {
   "cell_type": "code",
   "execution_count": 25,
   "metadata": {},
   "outputs": [],
   "source": [
    "import csv\n",
    "import pandas as pd\n",
    "import matplotlib.pyplot as plt\n",
    "import seaborn as sns\n",
    "from collections import Counter\n"
   ]
  },
  {
   "cell_type": "markdown",
   "metadata": {},
   "source": [
    "Leitura do dataset:"
   ]
  },
  {
   "cell_type": "code",
   "execution_count": 26,
   "metadata": {},
   "outputs": [],
   "source": [
    "df = pd.read_csv('USA_cars_datasets.csv', na_values = 'na')"
   ]
  },
  {
   "cell_type": "code",
   "execution_count": 27,
   "metadata": {},
   "outputs": [
    {
     "data": {
      "text/html": [
       "<div>\n",
       "<style scoped>\n",
       "    .dataframe tbody tr th:only-of-type {\n",
       "        vertical-align: middle;\n",
       "    }\n",
       "\n",
       "    .dataframe tbody tr th {\n",
       "        vertical-align: top;\n",
       "    }\n",
       "\n",
       "    .dataframe thead th {\n",
       "        text-align: right;\n",
       "    }\n",
       "</style>\n",
       "<table border=\"1\" class=\"dataframe\">\n",
       "  <thead>\n",
       "    <tr style=\"text-align: right;\">\n",
       "      <th></th>\n",
       "      <th>Unnamed: 0</th>\n",
       "      <th>price</th>\n",
       "      <th>brand</th>\n",
       "      <th>model</th>\n",
       "      <th>year</th>\n",
       "      <th>title_status</th>\n",
       "      <th>mileage</th>\n",
       "      <th>color</th>\n",
       "      <th>vin</th>\n",
       "      <th>lot</th>\n",
       "      <th>state</th>\n",
       "      <th>country</th>\n",
       "      <th>condition</th>\n",
       "    </tr>\n",
       "  </thead>\n",
       "  <tbody>\n",
       "    <tr>\n",
       "      <th>0</th>\n",
       "      <td>0</td>\n",
       "      <td>6300</td>\n",
       "      <td>toyota</td>\n",
       "      <td>cruiser</td>\n",
       "      <td>2008</td>\n",
       "      <td>clean vehicle</td>\n",
       "      <td>274117.0</td>\n",
       "      <td>black</td>\n",
       "      <td>jtezu11f88k007763</td>\n",
       "      <td>159348797</td>\n",
       "      <td>new jersey</td>\n",
       "      <td>usa</td>\n",
       "      <td>10 days left</td>\n",
       "    </tr>\n",
       "    <tr>\n",
       "      <th>1</th>\n",
       "      <td>1</td>\n",
       "      <td>2899</td>\n",
       "      <td>ford</td>\n",
       "      <td>se</td>\n",
       "      <td>2011</td>\n",
       "      <td>clean vehicle</td>\n",
       "      <td>190552.0</td>\n",
       "      <td>silver</td>\n",
       "      <td>2fmdk3gc4bbb02217</td>\n",
       "      <td>166951262</td>\n",
       "      <td>tennessee</td>\n",
       "      <td>usa</td>\n",
       "      <td>6 days left</td>\n",
       "    </tr>\n",
       "    <tr>\n",
       "      <th>2</th>\n",
       "      <td>2</td>\n",
       "      <td>5350</td>\n",
       "      <td>dodge</td>\n",
       "      <td>mpv</td>\n",
       "      <td>2018</td>\n",
       "      <td>clean vehicle</td>\n",
       "      <td>39590.0</td>\n",
       "      <td>silver</td>\n",
       "      <td>3c4pdcgg5jt346413</td>\n",
       "      <td>167655728</td>\n",
       "      <td>georgia</td>\n",
       "      <td>usa</td>\n",
       "      <td>2 days left</td>\n",
       "    </tr>\n",
       "    <tr>\n",
       "      <th>3</th>\n",
       "      <td>3</td>\n",
       "      <td>25000</td>\n",
       "      <td>ford</td>\n",
       "      <td>door</td>\n",
       "      <td>2014</td>\n",
       "      <td>clean vehicle</td>\n",
       "      <td>64146.0</td>\n",
       "      <td>blue</td>\n",
       "      <td>1ftfw1et4efc23745</td>\n",
       "      <td>167753855</td>\n",
       "      <td>virginia</td>\n",
       "      <td>usa</td>\n",
       "      <td>22 hours left</td>\n",
       "    </tr>\n",
       "    <tr>\n",
       "      <th>4</th>\n",
       "      <td>4</td>\n",
       "      <td>27700</td>\n",
       "      <td>chevrolet</td>\n",
       "      <td>1500</td>\n",
       "      <td>2018</td>\n",
       "      <td>clean vehicle</td>\n",
       "      <td>6654.0</td>\n",
       "      <td>red</td>\n",
       "      <td>3gcpcrec2jg473991</td>\n",
       "      <td>167763266</td>\n",
       "      <td>florida</td>\n",
       "      <td>usa</td>\n",
       "      <td>22 hours left</td>\n",
       "    </tr>\n",
       "  </tbody>\n",
       "</table>\n",
       "</div>"
      ],
      "text/plain": [
       "   Unnamed: 0  price      brand    model  year   title_status   mileage  \\\n",
       "0           0   6300     toyota  cruiser  2008  clean vehicle  274117.0   \n",
       "1           1   2899       ford       se  2011  clean vehicle  190552.0   \n",
       "2           2   5350      dodge      mpv  2018  clean vehicle   39590.0   \n",
       "3           3  25000       ford     door  2014  clean vehicle   64146.0   \n",
       "4           4  27700  chevrolet     1500  2018  clean vehicle    6654.0   \n",
       "\n",
       "    color                  vin        lot       state country      condition  \n",
       "0   black    jtezu11f88k007763  159348797  new jersey     usa   10 days left  \n",
       "1  silver    2fmdk3gc4bbb02217  166951262   tennessee     usa    6 days left  \n",
       "2  silver    3c4pdcgg5jt346413  167655728     georgia     usa    2 days left  \n",
       "3    blue    1ftfw1et4efc23745  167753855    virginia     usa  22 hours left  \n",
       "4     red    3gcpcrec2jg473991  167763266     florida     usa  22 hours left  "
      ]
     },
     "execution_count": 27,
     "metadata": {},
     "output_type": "execute_result"
    }
   ],
   "source": [
    "df.head(n=5)"
   ]
  },
  {
   "cell_type": "markdown",
   "metadata": {},
   "source": [
    "Número de linhas e colunas no arquivo:"
   ]
  },
  {
   "cell_type": "code",
   "execution_count": 28,
   "metadata": {},
   "outputs": [
    {
     "data": {
      "text/plain": [
       "(2499, 13)"
      ]
     },
     "execution_count": 28,
     "metadata": {},
     "output_type": "execute_result"
    }
   ],
   "source": [
    "df.shape"
   ]
  },
  {
   "cell_type": "markdown",
   "metadata": {},
   "source": [
    "Tipos de informação em cada coluna:"
   ]
  },
  {
   "cell_type": "code",
   "execution_count": 29,
   "metadata": {},
   "outputs": [
    {
     "data": {
      "text/plain": [
       "Unnamed: 0        int64\n",
       "price             int64\n",
       "brand            object\n",
       "model            object\n",
       "year              int64\n",
       "title_status     object\n",
       "mileage         float64\n",
       "color            object\n",
       "vin              object\n",
       "lot               int64\n",
       "state            object\n",
       "country          object\n",
       "condition        object\n",
       "dtype: object"
      ]
     },
     "execution_count": 29,
     "metadata": {},
     "output_type": "execute_result"
    }
   ],
   "source": [
    "df.dtypes"
   ]
  },
  {
   "cell_type": "markdown",
   "metadata": {},
   "source": [
    "Fase de exloração de dados:"
   ]
  },
  {
   "cell_type": "code",
   "execution_count": 30,
   "metadata": {},
   "outputs": [
    {
     "name": "stdout",
     "output_type": "stream",
     "text": [
      "Sem dados faltantes\n"
     ]
    }
   ],
   "source": [
    "def stats_dados_faltantes(df: pd.DataFrame) -> None:\n",
    "    dados_faltantes = False\n",
    "    for col in df.columns:\n",
    "        if df[col].isna().any():\n",
    "            dados_faltantes = True\n",
    "            qtd = df[col].isna().sum()\n",
    "            total = len(df)\n",
    "            dict_dados_faltantes = {col: {'Quantidade': qtd, 'Porcentagem': round(100 * qtd / total, 2)}}\n",
    "            print(dict_dados_faltantes)\n",
    "    if not dados_faltantes:\n",
    "        print('Sem dados faltantes')\n",
    "\n",
    "stats_dados_faltantes(df=df)"
   ]
  },
  {
   "cell_type": "code",
   "execution_count": 31,
   "metadata": {},
   "outputs": [
    {
     "name": "stdout",
     "output_type": "stream",
     "text": [
      "0\n"
     ]
    }
   ],
   "source": [
    "duplicatas = df.duplicated()\n",
    "num_duplicatas = duplicatas.sum()\n",
    "print(num_duplicatas)"
   ]
  },
  {
   "cell_type": "code",
   "execution_count": 32,
   "metadata": {},
   "outputs": [
    {
     "name": "stdout",
     "output_type": "stream",
     "text": [
      "O arquivo possui 28 marcas de carro\n",
      "Sendo elas: ['toyota' 'ford' 'dodge' 'chevrolet' 'gmc' 'chrysler' 'kia' 'buick'\n",
      " 'infiniti' 'mercedes-benz' 'jeep' 'bmw' 'cadillac' 'hyundai' 'mazda'\n",
      " 'honda' 'heartland' 'jaguar' 'acura' 'harley-davidson' 'audi' 'lincoln'\n",
      " 'lexus' 'nissan' 'land' 'maserati' 'peterbilt' 'ram']\n"
     ]
    }
   ],
   "source": [
    "marcas = df['brand'].unique()\n",
    "numero_marcas = len(marcas)\n",
    "print(f'O arquivo possui {numero_marcas} marcas de carro')\n",
    "print(f'Sendo elas: {marcas}')"
   ]
  },
  {
   "cell_type": "code",
   "execution_count": 33,
   "metadata": {},
   "outputs": [
    {
     "name": "stdout",
     "output_type": "stream",
     "text": [
      "Top 5 Marcas com Mais Ocorrências:\n",
      "ford: 1235 vezes\n",
      "dodge: 432 vezes\n",
      "nissan: 312 vezes\n",
      "chevrolet: 297 vezes\n",
      "gmc: 42 vezes\n"
     ]
    }
   ],
   "source": [
    "def contar_ocorrencia_marcas(df):\n",
    "    marcas = df['brand'].tolist()\n",
    "    \n",
    "    contador_marcas = Counter(marcas)\n",
    "    \n",
    "    return contador_marcas\n",
    "\n",
    "ocorrencia_marcas = contar_ocorrencia_marcas(df)\n",
    "\n",
    "top_5_marcas = ocorrencia_marcas.most_common(5)\n",
    "\n",
    "print(\"Top 5 Marcas com Mais Ocorrências:\")\n",
    "for marca, ocorrencias in top_5_marcas:\n",
    "    print(f'{marca}: {ocorrencias} vezes')"
   ]
  },
  {
   "cell_type": "code",
   "execution_count": 34,
   "metadata": {},
   "outputs": [
    {
     "name": "stdout",
     "output_type": "stream",
     "text": [
      "O arquivo possui 127 modelos de carro\n",
      "Sendo eles: ['cruiser' 'se' 'mpv' 'door' '1500' 'pk' 'malibu' 'coupe' 'wagon' 'forte'\n",
      " 'encore' 'sorento' 'doors' 'chassis' 'q70' 'camaro' 'convertible' 'vans'\n",
      " 'srw' 'compass' 'enclave' '300' 'cherokee' 'pacifica' 'x3' 'equinox'\n",
      " 'challenger' 'm' 'colorado' 'focus' 'durango' 'escape' 'charger'\n",
      " 'explorer' 'f-150' '3500' 'caravan' 'van' 'dart' '2500' 'esv' 'cutaway'\n",
      " 'el' 'edge' 'series' 'flex' 'srx' 'cab' 'pickup' 'vehicl' 'trax' 'tahoe'\n",
      " 'suburban' 'cargo' 'drw' 'fiesta' 'impala' 'soul' 'elantra' 'pioneer'\n",
      " 'trail' 'traverse' 'country' 'sundance' 'road/street' 'nautilus' 'gx'\n",
      " 'q5' 'gle' 'sportage' '5' 'sport' 'discovery' 'acadia' 'ghibli' 'glc'\n",
      " 'e-class' 'truck' 'utility' 'limited' 'sl-class' 'cx-3' '2500hd' 'sonic'\n",
      " 'corvette' 'mdx' 'xt5' 'fusion' 'mustang' 'passenger' 'volt' 'spark'\n",
      " 'cruze' 'ld' 'journey' 'transit' 'ranger' 'taurus' 'max' 'energi'\n",
      " 'expedition' 'bus' 'ecosport' 'f-750' 'd' 'dr' 'hybrid' 'suv' 'connect'\n",
      " 'f-650' 'sentra' 'altima' 'frontier' 'rogue' 'maxima' 'versa' 'note'\n",
      " 'armada' 'pathfinder' 'titan' 'sedan' 'juke' 'murano' 'xterra' 'kicks'\n",
      " 'xd' 'nvp']\n"
     ]
    }
   ],
   "source": [
    "modelos = df['model'].unique()\n",
    "numero_modelos = len(modelos)\n",
    "print(f'O arquivo possui {numero_modelos} modelos de carro')\n",
    "print(f'Sendo eles: {modelos}')"
   ]
  },
  {
   "cell_type": "code",
   "execution_count": 35,
   "metadata": {},
   "outputs": [
    {
     "name": "stdout",
     "output_type": "stream",
     "text": [
      "Top 5 Modelos com Mais Ocorrências:\n",
      "door: 651 vezes\n",
      "f-150: 219 vezes\n",
      "doors: 148 vezes\n",
      "caravan: 102 vezes\n",
      "mpv: 87 vezes\n"
     ]
    }
   ],
   "source": [
    "def contar_ocorrencia_modelos(df):\n",
    "    modelos = df['model'].tolist()\n",
    "    \n",
    "    contador_modelos = Counter(modelos)\n",
    "    \n",
    "    return contador_modelos\n",
    "\n",
    "ocorrencia_modelos = contar_ocorrencia_modelos(df)\n",
    "\n",
    "top_5_modelos = ocorrencia_modelos.most_common(5)\n",
    "\n",
    "print(\"Top 5 Modelos com Mais Ocorrências:\")\n",
    "for modelos, ocorrencias in top_5_modelos:\n",
    "    print(f'{modelos}: {ocorrencias} vezes')"
   ]
  },
  {
   "cell_type": "code",
   "execution_count": 36,
   "metadata": {},
   "outputs": [
    {
     "name": "stdout",
     "output_type": "stream",
     "text": [
      "Top 5 Cores com Mais Ocorrências:\n",
      "white: 707 vezes\n",
      "black: 516 vezes\n",
      "gray: 395 vezes\n",
      "silver: 300 vezes\n",
      "red: 192 vezes\n"
     ]
    }
   ],
   "source": [
    "def contar_ocorrencia_cores(df):\n",
    "    cor = df['color'].tolist()\n",
    "    \n",
    "    contador_cor = Counter(cor)\n",
    "    \n",
    "    return contador_cor\n",
    "\n",
    "ocorrencia_cores = contar_ocorrencia_cores(df)\n",
    "\n",
    "top_5_cores = ocorrencia_cores.most_common(5)\n",
    "\n",
    "print(\"Top 5 Cores com Mais Ocorrências:\")\n",
    "for cor, ocorrencias in top_5_cores:\n",
    "    print(f'{cor}: {ocorrencias} vezes')"
   ]
  },
  {
   "cell_type": "code",
   "execution_count": 37,
   "metadata": {},
   "outputs": [
    {
     "name": "stdout",
     "output_type": "stream",
     "text": [
      "O carro com fabricação mais recente é do ano 2020: kia sorento\n",
      "O carro com fabricação menos recente é do ano 1973: chevrolet camaro\n"
     ]
    }
   ],
   "source": [
    "mais_recente = df['year'].max()\n",
    "menos_recente = df['year'].min()\n",
    "\n",
    "veiculo_mais_recente = df[df['year'] == mais_recente]\n",
    "veiculo_menos_recente = df[df['year'] == menos_recente]\n",
    "\n",
    "marca_modelo_novo = veiculo_mais_recente[['brand','model']].iloc[0]\n",
    "print(f'O carro com fabricação mais recente é do ano {mais_recente}: {marca_modelo_novo['brand']} {marca_modelo_novo['model']}')\n",
    "\n",
    "marca_modelo_velho = veiculo_menos_recente[['brand','model']].iloc[0]\n",
    "print(f'O carro com fabricação menos recente é do ano {menos_recente}: {marca_modelo_velho['brand']} {marca_modelo_velho['model']}')\n",
    "    "
   ]
  },
  {
   "cell_type": "code",
   "execution_count": 38,
   "metadata": {},
   "outputs": [
    {
     "name": "stdout",
     "output_type": "stream",
     "text": [
      "Porcentagem de veiculos limpos: 93.48%\n",
      "Porcentagem de veiculos salvos pelo seguro: 6.52%\n"
     ]
    }
   ],
   "source": [
    "def porcentagem_title_status(df):\n",
    "    veiculos_limpos = df[df['title_status'] == 'clean vehicle'].shape[0]\n",
    "    veiculo_de_seguro = df[df['title_status'] == 'salvage insurance'].shape[0]\n",
    "    total_veiculos = len(df)\n",
    "\n",
    "    porcentagem_limpo = (veiculos_limpos / total_veiculos) * 100\n",
    "    porcentagem_veiculos_de_seguro = (veiculo_de_seguro / total_veiculos) * 100\n",
    "\n",
    "    return porcentagem_limpo, porcentagem_veiculos_de_seguro\n",
    "\n",
    "porcentagem_limpo, porcentagem_veiculos_de_seguro = porcentagem_title_status(df)\n",
    "\n",
    "print(f\"Porcentagem de veiculos limpos: {porcentagem_limpo:.2f}%\")\n",
    "print(f\"Porcentagem de veiculos salvos pelo seguro: {porcentagem_veiculos_de_seguro:.2f}%\")"
   ]
  },
  {
   "cell_type": "code",
   "execution_count": 48,
   "metadata": {},
   "outputs": [
    {
     "data": {
      "image/png": "[encoded data removed]",
      "text/plain": [
       "<Figure size 900x400 with 1 Axes>"
      ]
     },
     "metadata": {},
     "output_type": "display_data"
    }
   ],
   "source": [
    "marcas_mais_usadas = df['brand'].value_counts()\n",
    "\n",
    "top_5_marcas = marcas_mais_usadas.head(5)\n",
    "\n",
    "palette = sns.color_palette(\"deep\", len(top_5_marcas))\n",
    "\n",
    "plt.figure(figsize=(9, 4))\n",
    "ax = top_5_marcas.plot(kind='bar', color=palette)\n",
    "\n",
    "for i, v in enumerate(top_5_marcas):\n",
    "    ax.text(i, v + -1, str(v), ha='center', va='bottom', fontsize=9) \n",
    "\n",
    "plt.title('Top 5 Marcas Mais Usadas')\n",
    "plt.xlabel('')\n",
    "plt.ylabel('Número de Veículos')\n",
    "plt.xticks(rotation=0)\n",
    "plt.tight_layout()\n",
    "plt.show()"
   ]
  }
 ],
 "metadata": {
  "kernelspec": {
   "display_name": "Python 3",
   "language": "python",
   "name": "python3"
  },
  "language_info": {
   "codemirror_mode": {
    "name": "ipython",
    "version": 3
   },
   "file_extension": ".py",
   "mimetype": "text/x-python",
   "name": "python",
   "nbconvert_exporter": "python",
   "pygments_lexer": "ipython3",
   "version": "3.12.3"
  }
 },
 "nbformat": 4,
 "nbformat_minor": 2
}
